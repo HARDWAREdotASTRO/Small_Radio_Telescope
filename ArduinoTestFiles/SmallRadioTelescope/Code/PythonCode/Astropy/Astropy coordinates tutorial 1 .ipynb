{
 "cells": [
  {
   "cell_type": "code",
   "execution_count": 1,
   "id": "bdcb303f",
   "metadata": {},
   "outputs": [
    {
     "name": "stdout",
     "output_type": "stream",
     "text": [
      "Created TAP+ (v20200428.1) - Connection:\n",
      "\tHost: gea.esac.esa.int\n",
      "\tUse HTTPS: True\n",
      "\tPort: 443\n",
      "\tSSL Port: 443\n",
      "Created TAP+ (v20200428.1) - Connection:\n",
      "\tHost: gea.esac.esa.int\n",
      "\tUse HTTPS: True\n",
      "\tPort: 443\n",
      "\tSSL Port: 443\n"
     ]
    }
   ],
   "source": [
    "import matplotlib.pyplot as plt\n",
    "%matplotlib inline\n",
    "import numpy as np\n",
    "\n",
    "from astropy import units as u\n",
    "from astropy.coordinates import SkyCoord, Distance\n",
    "from astropy.io import fits\n",
    "from astropy.table import QTable\n",
    "from astropy.utils.data import download_file\n",
    "\n",
    "from astroquery.gaia import Gaia\n",
    "Gaia.ROW_LIMIT = 10000 # Set the row limit for returned data "
   ]
  },
  {
   "cell_type": "code",
   "execution_count": 2,
   "id": "0741221b",
   "metadata": {},
   "outputs": [
    {
     "data": {
      "text/plain": [
       "<SkyCoord (ICRS): (ra, dec) in deg\n",
       "    (12.11, 85.26)>"
      ]
     },
     "execution_count": 2,
     "metadata": {},
     "output_type": "execute_result"
    }
   ],
   "source": [
    "ngc188_center = SkyCoord(12.11*u.deg, 85.26*u.deg)\n",
    "ngc188_center"
   ]
  },
  {
   "cell_type": "code",
   "execution_count": 3,
   "id": "61fde8f5",
   "metadata": {},
   "outputs": [
    {
     "data": {
      "text/plain": [
       "<SkyCoord (ICRS): (ra, dec) in deg\n",
       "    (12.11, 85.26)>"
      ]
     },
     "execution_count": 3,
     "metadata": {},
     "output_type": "execute_result"
    }
   ],
   "source": [
    "SkyCoord('00h48m26.4s', '85d15m36s', frame = 'icrs')"
   ]
  },
  {
   "cell_type": "code",
   "execution_count": 4,
   "id": "ce28885a",
   "metadata": {},
   "outputs": [
    {
     "data": {
      "text/plain": [
       "(<Longitude 12.11 deg>, <Latitude 85.26 deg>)"
      ]
     },
     "execution_count": 4,
     "metadata": {},
     "output_type": "execute_result"
    }
   ],
   "source": [
    "ngc188_center.ra, ngc188_center.dec"
   ]
  },
  {
   "cell_type": "code",
   "execution_count": 5,
   "id": "dd670141",
   "metadata": {},
   "outputs": [
    {
     "data": {
      "text/latex": [
       "$12^\\circ06{}^\\prime36{}^{\\prime\\prime}$"
      ],
      "text/plain": [
       "<Longitude 12.11 deg>"
      ]
     },
     "execution_count": 5,
     "metadata": {},
     "output_type": "execute_result"
    }
   ],
   "source": [
    "ngc188_center.ra"
   ]
  },
  {
   "cell_type": "code",
   "execution_count": 6,
   "id": "46a4ec62",
   "metadata": {},
   "outputs": [
    {
     "data": {
      "text/latex": [
       "$85^\\circ15{}^\\prime36{}^{\\prime\\prime}$"
      ],
      "text/plain": [
       "<Latitude 85.26 deg>"
      ]
     },
     "execution_count": 6,
     "metadata": {},
     "output_type": "execute_result"
    }
   ],
   "source": [
    "ngc188_center.dec"
   ]
  },
  {
   "cell_type": "code",
   "execution_count": 7,
   "id": "80eb451f",
   "metadata": {},
   "outputs": [
    {
     "data": {
      "text/plain": [
       "(astropy.coordinates.angles.Longitude, astropy.coordinates.angles.Latitude)"
      ]
     },
     "execution_count": 7,
     "metadata": {},
     "output_type": "execute_result"
    }
   ],
   "source": [
    "type(ngc188_center.ra), type(ngc188_center.dec)"
   ]
  },
  {
   "cell_type": "code",
   "execution_count": 8,
   "id": "87ba3c8b",
   "metadata": {},
   "outputs": [
    {
     "data": {
      "text/plain": [
       "(<Longitude 0.80733333 hourangle>,\n",
       " <Longitude 0.21135937 rad>,\n",
       " <Longitude 12.11 deg>)"
      ]
     },
     "execution_count": 8,
     "metadata": {},
     "output_type": "execute_result"
    }
   ],
   "source": [
    "(ngc188_center.ra.to(u.hourangle),\n",
    "ngc188_center.ra.to(u.radian),\n",
    "ngc188_center.ra.to(u.degree))"
   ]
  },
  {
   "cell_type": "code",
   "execution_count": 9,
   "id": "2509be10",
   "metadata": {},
   "outputs": [
    {
     "data": {
      "text/plain": [
       "(0.8073333333333335, 0.21135937241651329, 12.11)"
      ]
     },
     "execution_count": 9,
     "metadata": {},
     "output_type": "execute_result"
    }
   ],
   "source": [
    "(ngc188_center.ra.hour, ngc188_center.ra.radian,\n",
    "ngc188_center.ra.degree)"
   ]
  },
  {
   "cell_type": "code",
   "execution_count": 10,
   "id": "420b6316",
   "metadata": {},
   "outputs": [
    {
     "data": {
      "text/plain": [
       "'00:48:26.4'"
      ]
     },
     "execution_count": 10,
     "metadata": {},
     "output_type": "execute_result"
    }
   ],
   "source": [
    "ngc188_center.ra.to_string(unit = u.hourangle, sep = ':', pad = True)"
   ]
  },
  {
   "cell_type": "code",
   "execution_count": 11,
   "id": "705c182c",
   "metadata": {},
   "outputs": [
    {
     "name": "stdout",
     "output_type": "stream",
     "text": [
      "INFO: Query finished. [astroquery.utils.tap.core]\n"
     ]
    }
   ],
   "source": [
    "job = Gaia.cone_search_async(ngc188_center, radius = 0.5*u.deg)\n",
    "ngc188_table = job.get_results()\n",
    "\n",
    "#only keep stars brighter than G=19 magnitude\n",
    "ngc188_table = ngc188_table[ngc188_table['phot_g_mean_mag'] < 19*u.mag]"
   ]
  },
  {
   "cell_type": "code",
   "execution_count": 12,
   "id": "cbe480a7",
   "metadata": {},
   "outputs": [],
   "source": [
    "cols = ['source_id',\n",
    "       'ra', \n",
    "       'dec',\n",
    "       'parallax',\n",
    "       'pmra',\n",
    "       'pmdec',\n",
    "       'radial_velocity',\n",
    "       'phot_g_mean_mag',\n",
    "       'phot_bp_mean_mag',\n",
    "       'phot_rp_mean_mag']\n",
    "ngc188_table[cols].write('gaia_results.fits', overwrite = True)"
   ]
  },
  {
   "cell_type": "code",
   "execution_count": 13,
   "id": "a617aa65",
   "metadata": {},
   "outputs": [],
   "source": [
    "ngc188_table = QTable.read('gaia_results.fits')"
   ]
  },
  {
   "cell_type": "code",
   "execution_count": 14,
   "id": "9d538334",
   "metadata": {},
   "outputs": [
    {
     "data": {
      "text/plain": [
       "4934"
      ]
     },
     "execution_count": 14,
     "metadata": {},
     "output_type": "execute_result"
    }
   ],
   "source": [
    "len(ngc188_table)"
   ]
  },
  {
   "cell_type": "code",
   "execution_count": 15,
   "id": "8f21e099",
   "metadata": {},
   "outputs": [
    {
     "data": {
      "text/latex": [
       "$[12.12844,~12.093813,~12.09833,~\\dots,~16.055353,~16.058846,~13.05668] \\; \\mathrm{{}^{\\circ}}$"
      ],
      "text/plain": [
       "<Quantity [12.12843989, 12.09381253, 12.09832966, ..., 16.0553526 ,\n",
       "           16.05884572, 13.05668027] deg>"
      ]
     },
     "execution_count": 15,
     "metadata": {},
     "output_type": "execute_result"
    }
   ],
   "source": [
    "ngc188_table['ra']"
   ]
  },
  {
   "cell_type": "code",
   "execution_count": 16,
   "id": "8c605441",
   "metadata": {},
   "outputs": [
    {
     "data": {
      "text/latex": [
       "$[85.260769,~85.265226,~85.254431,~\\dots,~85.642512,~85.642305,~84.772843] \\; \\mathrm{{}^{\\circ}}$"
      ],
      "text/plain": [
       "<Quantity [85.26076889, 85.26522648, 85.25443128, ..., 85.64251242,\n",
       "           85.6423048 , 84.7728428 ] deg>"
      ]
     },
     "execution_count": 16,
     "metadata": {},
     "output_type": "execute_result"
    }
   ],
   "source": [
    "ngc188_table['dec']"
   ]
  },
  {
   "cell_type": "code",
   "execution_count": 18,
   "id": "49d96c14",
   "metadata": {},
   "outputs": [
    {
     "data": {
      "text/plain": [
       "<SkyCoord (ICRS): (ra, dec) in deg\n",
       "    [(12.12843989, 85.26076889), (12.09381253, 85.26522648),\n",
       "     (12.09832966, 85.25443128), ..., (16.0553526 , 85.64251242),\n",
       "     (16.05884572, 85.6423048 ), (13.05668027, 84.7728428 )]>"
      ]
     },
     "execution_count": 18,
     "metadata": {},
     "output_type": "execute_result"
    }
   ],
   "source": [
    "ngc188_gaia_coords = SkyCoord(ngc188_table['ra'], ngc188_table['dec'])\n",
    "\n",
    "ngc188_gaia_coords"
   ]
  },
  {
   "cell_type": "code",
   "execution_count": 19,
   "id": "35d2e9b3",
   "metadata": {},
   "outputs": [],
   "source": [
    "ngc188_center = SkyCoord.from_name('NGC 188')"
   ]
  },
  {
   "cell_type": "code",
   "execution_count": 20,
   "id": "ae4d6d14",
   "metadata": {},
   "outputs": [
    {
     "data": {
      "text/plain": [
       "'00:48:26.0 +85:15:18.0'"
      ]
     },
     "execution_count": 20,
     "metadata": {},
     "output_type": "execute_result"
    }
   ],
   "source": [
    "ngc188_center.to_string(style = \"hmsdms\", sep = \":\", precision = 1)"
   ]
  },
  {
   "cell_type": "code",
   "execution_count": 22,
   "id": "33f9b7e4",
   "metadata": {},
   "outputs": [
    {
     "data": {
      "text/latex": [
       "[$0^\\circ00{}^\\prime21.6129{}^{\\prime\\prime}$\n",
       " $0^\\circ00{}^\\prime37.0679{}^{\\prime\\prime}$\n",
       " $0^\\circ00{}^\\prime03.6149{}^{\\prime\\prime}$ ...\n",
       " $0^\\circ29{}^\\prime52.9424{}^{\\prime\\prime}$\n",
       " $0^\\circ29{}^\\prime53.004{}^{\\prime\\prime}$\n",
       " $0^\\circ29{}^\\prime20.8871{}^{\\prime\\prime}$]"
      ],
      "text/plain": [
       "<Angle [0.00600359, 0.01029663, 0.00100414, ..., 0.49803955, 0.49805666,\n",
       "        0.4891353 ] deg>"
      ]
     },
     "execution_count": 22,
     "metadata": {},
     "output_type": "execute_result"
    }
   ],
   "source": [
    "ngc188_gaia_coords.separation(ngc188_center)"
   ]
  },
  {
   "cell_type": "code",
   "execution_count": 23,
   "id": "7bd3688b",
   "metadata": {},
   "outputs": [],
   "source": [
    "ngc188_center_3d = SkyCoord(12.11*u.deg, 85.26*u.deg, distance = 1.96*u.kpc)"
   ]
  },
  {
   "cell_type": "code",
   "execution_count": 25,
   "id": "8066db07",
   "metadata": {},
   "outputs": [
    {
     "ename": "KeyError",
     "evalue": "'parallax_error'",
     "output_type": "error",
     "traceback": [
      "\u001b[1;31m---------------------------------------------------------------------------\u001b[0m",
      "\u001b[1;31mKeyError\u001b[0m                                  Traceback (most recent call last)",
      "\u001b[1;32m<ipython-input-25-3b5777351894>\u001b[0m in \u001b[0;36m<module>\u001b[1;34m\u001b[0m\n\u001b[1;32m----> 1\u001b[1;33m \u001b[0mparallax_snr\u001b[0m \u001b[1;33m=\u001b[0m \u001b[0mngc188_table\u001b[0m\u001b[1;33m[\u001b[0m\u001b[1;34m'parallax'\u001b[0m\u001b[1;33m]\u001b[0m \u001b[1;33m/\u001b[0m \u001b[0mngc188_table\u001b[0m\u001b[1;33m[\u001b[0m\u001b[1;34m'parallax_error'\u001b[0m\u001b[1;33m]\u001b[0m\u001b[1;33m\u001b[0m\u001b[1;33m\u001b[0m\u001b[0m\n\u001b[0m\u001b[0;32m      2\u001b[0m \u001b[0mngc188_table_3d\u001b[0m \u001b[1;33m=\u001b[0m \u001b[0mngc188_table\u001b[0m\u001b[1;33m[\u001b[0m\u001b[0mparallax_snr\u001b[0m \u001b[1;33m>\u001b[0m \u001b[1;36m10\u001b[0m\u001b[1;33m]\u001b[0m\u001b[1;33m\u001b[0m\u001b[1;33m\u001b[0m\u001b[0m\n\u001b[0;32m      3\u001b[0m \u001b[0mlen\u001b[0m\u001b[1;33m(\u001b[0m\u001b[0mngc188_table_3d\u001b[0m\u001b[1;33m)\u001b[0m\u001b[1;33m\u001b[0m\u001b[1;33m\u001b[0m\u001b[0m\n",
      "\u001b[1;32m~\\anaconda3\\envs\\SRTConda\\lib\\site-packages\\astropy\\table\\table.py\u001b[0m in \u001b[0;36m__getitem__\u001b[1;34m(self, item)\u001b[0m\n\u001b[0;32m   1652\u001b[0m     \u001b[1;32mdef\u001b[0m \u001b[0m__getitem__\u001b[0m\u001b[1;33m(\u001b[0m\u001b[0mself\u001b[0m\u001b[1;33m,\u001b[0m \u001b[0mitem\u001b[0m\u001b[1;33m)\u001b[0m\u001b[1;33m:\u001b[0m\u001b[1;33m\u001b[0m\u001b[1;33m\u001b[0m\u001b[0m\n\u001b[0;32m   1653\u001b[0m         \u001b[1;32mif\u001b[0m \u001b[0misinstance\u001b[0m\u001b[1;33m(\u001b[0m\u001b[0mitem\u001b[0m\u001b[1;33m,\u001b[0m \u001b[0mstr\u001b[0m\u001b[1;33m)\u001b[0m\u001b[1;33m:\u001b[0m\u001b[1;33m\u001b[0m\u001b[1;33m\u001b[0m\u001b[0m\n\u001b[1;32m-> 1654\u001b[1;33m             \u001b[1;32mreturn\u001b[0m \u001b[0mself\u001b[0m\u001b[1;33m.\u001b[0m\u001b[0mcolumns\u001b[0m\u001b[1;33m[\u001b[0m\u001b[0mitem\u001b[0m\u001b[1;33m]\u001b[0m\u001b[1;33m\u001b[0m\u001b[1;33m\u001b[0m\u001b[0m\n\u001b[0m\u001b[0;32m   1655\u001b[0m         \u001b[1;32melif\u001b[0m \u001b[0misinstance\u001b[0m\u001b[1;33m(\u001b[0m\u001b[0mitem\u001b[0m\u001b[1;33m,\u001b[0m \u001b[1;33m(\u001b[0m\u001b[0mint\u001b[0m\u001b[1;33m,\u001b[0m \u001b[0mnp\u001b[0m\u001b[1;33m.\u001b[0m\u001b[0minteger\u001b[0m\u001b[1;33m)\u001b[0m\u001b[1;33m)\u001b[0m\u001b[1;33m:\u001b[0m\u001b[1;33m\u001b[0m\u001b[1;33m\u001b[0m\u001b[0m\n\u001b[0;32m   1656\u001b[0m             \u001b[1;32mreturn\u001b[0m \u001b[0mself\u001b[0m\u001b[1;33m.\u001b[0m\u001b[0mRow\u001b[0m\u001b[1;33m(\u001b[0m\u001b[0mself\u001b[0m\u001b[1;33m,\u001b[0m \u001b[0mitem\u001b[0m\u001b[1;33m)\u001b[0m\u001b[1;33m\u001b[0m\u001b[1;33m\u001b[0m\u001b[0m\n",
      "\u001b[1;32m~\\anaconda3\\envs\\SRTConda\\lib\\site-packages\\astropy\\table\\table.py\u001b[0m in \u001b[0;36m__getitem__\u001b[1;34m(self, item)\u001b[0m\n\u001b[0;32m    237\u001b[0m         \"\"\"\n\u001b[0;32m    238\u001b[0m         \u001b[1;32mif\u001b[0m \u001b[0misinstance\u001b[0m\u001b[1;33m(\u001b[0m\u001b[0mitem\u001b[0m\u001b[1;33m,\u001b[0m \u001b[0mstr\u001b[0m\u001b[1;33m)\u001b[0m\u001b[1;33m:\u001b[0m\u001b[1;33m\u001b[0m\u001b[1;33m\u001b[0m\u001b[0m\n\u001b[1;32m--> 239\u001b[1;33m             \u001b[1;32mreturn\u001b[0m \u001b[0mOrderedDict\u001b[0m\u001b[1;33m.\u001b[0m\u001b[0m__getitem__\u001b[0m\u001b[1;33m(\u001b[0m\u001b[0mself\u001b[0m\u001b[1;33m,\u001b[0m \u001b[0mitem\u001b[0m\u001b[1;33m)\u001b[0m\u001b[1;33m\u001b[0m\u001b[1;33m\u001b[0m\u001b[0m\n\u001b[0m\u001b[0;32m    240\u001b[0m         \u001b[1;32melif\u001b[0m \u001b[0misinstance\u001b[0m\u001b[1;33m(\u001b[0m\u001b[0mitem\u001b[0m\u001b[1;33m,\u001b[0m \u001b[1;33m(\u001b[0m\u001b[0mint\u001b[0m\u001b[1;33m,\u001b[0m \u001b[0mnp\u001b[0m\u001b[1;33m.\u001b[0m\u001b[0minteger\u001b[0m\u001b[1;33m)\u001b[0m\u001b[1;33m)\u001b[0m\u001b[1;33m:\u001b[0m\u001b[1;33m\u001b[0m\u001b[1;33m\u001b[0m\u001b[0m\n\u001b[0;32m    241\u001b[0m             \u001b[1;32mreturn\u001b[0m \u001b[0mlist\u001b[0m\u001b[1;33m(\u001b[0m\u001b[0mself\u001b[0m\u001b[1;33m.\u001b[0m\u001b[0mvalues\u001b[0m\u001b[1;33m(\u001b[0m\u001b[1;33m)\u001b[0m\u001b[1;33m)\u001b[0m\u001b[1;33m[\u001b[0m\u001b[0mitem\u001b[0m\u001b[1;33m]\u001b[0m\u001b[1;33m\u001b[0m\u001b[1;33m\u001b[0m\u001b[0m\n",
      "\u001b[1;31mKeyError\u001b[0m: 'parallax_error'"
     ]
    }
   ],
   "source": [
    "parallax_snr = ngc188_table['parallax'] / ngc188_table['parallax_error']\n",
    "ngc188_table_3d = ngc188_table[parallax_snr > 10]\n",
    "len(ngc188_table_3d)"
   ]
  },
  {
   "cell_type": "code",
   "execution_count": null,
   "id": "00c21274",
   "metadata": {},
   "outputs": [],
   "source": []
  }
 ],
 "metadata": {
  "kernelspec": {
   "display_name": "Python 3",
   "language": "python",
   "name": "python3"
  },
  "language_info": {
   "codemirror_mode": {
    "name": "ipython",
    "version": 3
   },
   "file_extension": ".py",
   "mimetype": "text/x-python",
   "name": "python",
   "nbconvert_exporter": "python",
   "pygments_lexer": "ipython3",
   "version": "3.9.5"
  }
 },
 "nbformat": 4,
 "nbformat_minor": 5
}
