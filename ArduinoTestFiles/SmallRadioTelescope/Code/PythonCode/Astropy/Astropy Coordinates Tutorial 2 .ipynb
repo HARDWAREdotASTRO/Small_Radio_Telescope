{
 "cells": [
  {
   "cell_type": "code",
   "execution_count": 2,
   "id": "a77622a9",
   "metadata": {},
   "outputs": [],
   "source": [
    "import matplotlib as mpl\n",
    "import matplotlib.pyplot as plt\n",
    "%matplotlib inline\n",
    "import numpy as np\n",
    "\n",
    "from astropy import units as u\n",
    "from astropy.coordinates import (SkyCoord, Distance, Galactic, EarthLocation, AltAz)\n",
    "import astropy.coordinates as coord\n",
    "from astropy.io import fits\n",
    "from astropy.table import QTable\n",
    "from astropy.time import Time \n",
    "from astropy.utils.data import download_file"
   ]
  },
  {
   "cell_type": "code",
   "execution_count": 3,
   "id": "cdbc6504",
   "metadata": {},
   "outputs": [
    {
     "name": "stdout",
     "output_type": "stream",
     "text": [
      "1.0662133333333335\n",
      "01h03m58.368s -10d31m24.6484s\n",
      "-10:31:24.64838\n"
     ]
    }
   ],
   "source": [
    "c = SkyCoord(ra = 15.9932*u.deg, dec = -10.52351344*u.deg)\n",
    "print(c.ra.hourangle)\n",
    "print(c.to_string('hmsdms'))\n",
    "print(c.dec.to_string(sep = ':', precision = 5))"
   ]
  },
  {
   "cell_type": "code",
   "execution_count": 4,
   "id": "a886c01e",
   "metadata": {},
   "outputs": [
    {
     "data": {
      "text/plain": [
       "<CartesianRepresentation (x, y, z) [dimensionless]\n",
       "    (0.94512547, 0.27088898, -0.18263903)>"
      ]
     },
     "execution_count": 4,
     "metadata": {},
     "output_type": "execute_result"
    }
   ],
   "source": [
    "c.represent_as('cartesian')"
   ]
  },
  {
   "cell_type": "code",
   "execution_count": 5,
   "id": "4d51e426",
   "metadata": {},
   "outputs": [
    {
     "data": {
      "text/plain": [
       "<CartesianRepresentation (x, y, z) [dimensionless]\n",
       "    (0.94512547, 0.27088898, -0.18263903)>"
      ]
     },
     "execution_count": 5,
     "metadata": {},
     "output_type": "execute_result"
    }
   ],
   "source": [
    "c.represent_as(coord.CartesianRepresentation)"
   ]
  },
  {
   "cell_type": "code",
   "execution_count": null,
   "id": "1fc6a317",
   "metadata": {},
   "outputs": [],
   "source": []
  }
 ],
 "metadata": {
  "kernelspec": {
   "display_name": "Python 3",
   "language": "python",
   "name": "python3"
  },
  "language_info": {
   "codemirror_mode": {
    "name": "ipython",
    "version": 3
   },
   "file_extension": ".py",
   "mimetype": "text/x-python",
   "name": "python",
   "nbconvert_exporter": "python",
   "pygments_lexer": "ipython3",
   "version": "3.9.5"
  }
 },
 "nbformat": 4,
 "nbformat_minor": 5
}
